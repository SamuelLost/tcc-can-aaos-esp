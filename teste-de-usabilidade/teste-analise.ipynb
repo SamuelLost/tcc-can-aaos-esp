{
 "cells": [
  {
   "cell_type": "markdown",
   "metadata": {},
   "source": [
    "### Instalando os pacotes necessários"
   ]
  },
  {
   "cell_type": "code",
   "execution_count": null,
   "metadata": {},
   "outputs": [],
   "source": [
    "%pip install -q plotly pandas numpy matplotlib nbformat kaleido"
   ]
  },
  {
   "cell_type": "code",
   "execution_count": null,
   "metadata": {},
   "outputs": [],
   "source": [
    "import pandas as pd\n",
    "import numpy as np\n",
    "import plotly.express as px"
   ]
  },
  {
   "cell_type": "markdown",
   "metadata": {},
   "source": [
    "### Carregando e limpando os dados"
   ]
  },
  {
   "cell_type": "code",
   "execution_count": null,
   "metadata": {},
   "outputs": [],
   "source": [
    "df = pd.read_csv('teste-dados.csv', decimal=',')\n",
    "\n",
    "dt_clean = df.drop(['Sexo', 'Escolaridade', 'Idade', 'Habilitado?', 'Anos de experiência'], axis=1)\n",
    "df_clean = dt_clean.dropna()\n",
    "display(df_clean)"
   ]
  },
  {
   "cell_type": "markdown",
   "metadata": {},
   "source": [
    "### Plotando os dados em um gráfico boxplot"
   ]
  },
  {
   "cell_type": "code",
   "execution_count": null,
   "metadata": {},
   "outputs": [],
   "source": [
    "import plotly.graph_objs as go\n",
    "\n",
    "fig = go.Figure()\n",
    "\n",
    "for i in range(1, 5):\n",
    "    fig.add_trace(go.Box(\n",
    "        y=df_clean[f'Atividade {i} (s)'],\n",
    "        name=f'Atividade {i}',\n",
    "        boxpoints='all',\n",
    "        whiskerwidth=0.2,\n",
    "        marker_size=6,\n",
    "        line_width=1,\n",
    "        jitter=0,\n",
    "        text=df_clean['Participante'],  # Adiciona o nome do usuário como hover text\n",
    "        # hoverinfo=\"text+y+name\"  # Exibe o valor de y e o texto ao passar o cursor\n",
    "        hovertemplate=\"<b>%{x}</b><br>Participante: %{text}<br>Tempo(s): %{y}\",\n",
    "    ))\n",
    "\n",
    "fig.update_layout(\n",
    "    title={\n",
    "        # 'text': \"Variação de tempo por atividade\",\n",
    "        'x':0.5,  # posição horizontal (centralizado)\n",
    "        'xanchor': 'center',  # ancoragem horizontal\n",
    "        'yanchor': 'top'  # ancoragem vertical\n",
    "    },\n",
    "    font=dict(\n",
    "        family=\"Arial\",\n",
    "        size=15,\n",
    "        color=\"black\",\n",
    "        # Aplicando o negrito ao título\n",
    "    ),\n",
    "    title_font=dict(\n",
    "        family=\"Arial\",\n",
    "        size=20,\n",
    "        color=\"black\",\n",
    "        # Aplicando o negrito ao título\n",
    "        weight=\"bold\"\n",
    "    ),\n",
    "    xaxis_title='Atividades', \n",
    "    yaxis_title='Tempo (s)',\n",
    "    yaxis=dict(\n",
    "        autorange=True,\n",
    "        showgrid=True,\n",
    "        dtick=5,\n",
    "        gridcolor='rgb(0.85, 0.85, 0.85)',\n",
    "        gridwidth=1,\n",
    "    ),\n",
    "    margin=dict(\n",
    "        l=10,\n",
    "        r=10,\n",
    "        b=10,\n",
    "        t=10,\n",
    "    ),\n",
    "    # paper_bgcolor='rgb(0.95, 0.95, 0.95)',\n",
    "    # plot_bgcolor='rgb(0.95, 0.95, 0.95)',\n",
    "    plot_bgcolor='white',\n",
    "    showlegend=True\n",
    ")\n",
    "\n",
    "fig.show()\n",
    "# fig.write_image(\"boxplot_white_sem_titulo.pdf\", format=\"pdf\")"
   ]
  }
 ],
 "metadata": {
  "kernelspec": {
   "display_name": "Python 3",
   "language": "python",
   "name": "python3"
  },
  "language_info": {
   "codemirror_mode": {
    "name": "ipython",
    "version": 3
   },
   "file_extension": ".py",
   "mimetype": "text/x-python",
   "name": "python",
   "nbconvert_exporter": "python",
   "pygments_lexer": "ipython3",
   "version": "3.10.12"
  }
 },
 "nbformat": 4,
 "nbformat_minor": 2
}
